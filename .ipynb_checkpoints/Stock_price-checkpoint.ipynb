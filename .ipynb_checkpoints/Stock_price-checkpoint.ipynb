{
 "cells": [
  {
   "cell_type": "markdown",
   "id": "412f92dd-137c-40f0-9355-c55d1d18e4a1",
   "metadata": {},
   "source": [
    "# STOCK PRICE PREDICTION\n",
    "The purpose of this projects is to predict the closing price of the a stock given severable independent variables "
   ]
  },
  {
   "cell_type": "markdown",
   "id": "90b56193-1071-40f8-a429-64c6884a8b45",
   "metadata": {},
   "source": [
    "### Importing Libraries"
   ]
  },
  {
   "cell_type": "code",
   "execution_count": 3,
   "id": "68db3dbd-1d05-4ba5-ae6d-142e54d7a522",
   "metadata": {},
   "outputs": [],
   "source": [
    "import pandas as pd \n",
    "import numpy as np\n",
    "import matplotlib.pyplot as plt\n",
    "import seaborn as sns\n",
    "import plotly.express as px\n",
    "from sklearn.preprocessing import StandardScaler\n",
    "from sklearn.preprocessing import MinMaxScaler\n",
    "from sklearn import metrics\n",
    "from sklearn.linear_model import LinearRegression     "
   ]
  },
  {
   "cell_type": "markdown",
   "id": "c916f352-21de-4db9-a43d-ae682c31f559",
   "metadata": {},
   "source": [
    "### Loading the DataSet"
   ]
  },
  {
   "cell_type": "code",
   "execution_count": 35,
   "id": "02e5657c-9c2c-4de7-8af8-d4a54b369f3b",
   "metadata": {},
   "outputs": [],
   "source": [
    "df = pd.read_excel(\"Stock Price Prediction.xlsx\")"
   ]
  },
  {
   "cell_type": "code",
   "execution_count": 36,
   "id": "0e99732f-11a8-458b-8ea4-d4b206004146",
   "metadata": {},
   "outputs": [
    {
     "data": {
      "text/html": [
       "<div>\n",
       "<style scoped>\n",
       "    .dataframe tbody tr th:only-of-type {\n",
       "        vertical-align: middle;\n",
       "    }\n",
       "\n",
       "    .dataframe tbody tr th {\n",
       "        vertical-align: top;\n",
       "    }\n",
       "\n",
       "    .dataframe thead th {\n",
       "        text-align: right;\n",
       "    }\n",
       "</style>\n",
       "<table border=\"1\" class=\"dataframe\">\n",
       "  <thead>\n",
       "    <tr style=\"text-align: right;\">\n",
       "      <th></th>\n",
       "      <th>Date</th>\n",
       "      <th>Open</th>\n",
       "      <th>High</th>\n",
       "      <th>Low</th>\n",
       "      <th>Close</th>\n",
       "      <th>Adj Close</th>\n",
       "      <th>Volume</th>\n",
       "    </tr>\n",
       "  </thead>\n",
       "  <tbody>\n",
       "    <tr>\n",
       "      <th>0</th>\n",
       "      <td>2018-02-05</td>\n",
       "      <td>262.000000</td>\n",
       "      <td>267.899994</td>\n",
       "      <td>250.029999</td>\n",
       "      <td>254.259995</td>\n",
       "      <td>254.259995</td>\n",
       "      <td>11896100</td>\n",
       "    </tr>\n",
       "    <tr>\n",
       "      <th>1</th>\n",
       "      <td>2018-02-06</td>\n",
       "      <td>247.699997</td>\n",
       "      <td>266.700012</td>\n",
       "      <td>245.000000</td>\n",
       "      <td>265.720001</td>\n",
       "      <td>265.720001</td>\n",
       "      <td>12595800</td>\n",
       "    </tr>\n",
       "    <tr>\n",
       "      <th>2</th>\n",
       "      <td>2018-02-07</td>\n",
       "      <td>266.579987</td>\n",
       "      <td>272.450012</td>\n",
       "      <td>264.329987</td>\n",
       "      <td>264.559998</td>\n",
       "      <td>264.559998</td>\n",
       "      <td>8981500</td>\n",
       "    </tr>\n",
       "    <tr>\n",
       "      <th>3</th>\n",
       "      <td>2018-02-08</td>\n",
       "      <td>267.079987</td>\n",
       "      <td>267.619995</td>\n",
       "      <td>250.000000</td>\n",
       "      <td>250.100006</td>\n",
       "      <td>250.100006</td>\n",
       "      <td>9306700</td>\n",
       "    </tr>\n",
       "    <tr>\n",
       "      <th>4</th>\n",
       "      <td>2018-02-09</td>\n",
       "      <td>253.850006</td>\n",
       "      <td>255.800003</td>\n",
       "      <td>236.110001</td>\n",
       "      <td>249.470001</td>\n",
       "      <td>249.470001</td>\n",
       "      <td>16906900</td>\n",
       "    </tr>\n",
       "  </tbody>\n",
       "</table>\n",
       "</div>"
      ],
      "text/plain": [
       "        Date        Open        High         Low       Close   Adj Close  \\\n",
       "0 2018-02-05  262.000000  267.899994  250.029999  254.259995  254.259995   \n",
       "1 2018-02-06  247.699997  266.700012  245.000000  265.720001  265.720001   \n",
       "2 2018-02-07  266.579987  272.450012  264.329987  264.559998  264.559998   \n",
       "3 2018-02-08  267.079987  267.619995  250.000000  250.100006  250.100006   \n",
       "4 2018-02-09  253.850006  255.800003  236.110001  249.470001  249.470001   \n",
       "\n",
       "     Volume  \n",
       "0  11896100  \n",
       "1  12595800  \n",
       "2   8981500  \n",
       "3   9306700  \n",
       "4  16906900  "
      ]
     },
     "execution_count": 36,
     "metadata": {},
     "output_type": "execute_result"
    }
   ],
   "source": [
    "df.head()"
   ]
  },
  {
   "cell_type": "code",
   "execution_count": 37,
   "id": "e3e65e34-e327-463b-aad2-68091941709b",
   "metadata": {},
   "outputs": [
    {
     "data": {
      "text/plain": [
       "Date         0\n",
       "Open         0\n",
       "High         0\n",
       "Low          0\n",
       "Close        0\n",
       "Adj Close    0\n",
       "Volume       0\n",
       "dtype: int64"
      ]
     },
     "execution_count": 37,
     "metadata": {},
     "output_type": "execute_result"
    }
   ],
   "source": [
    "#Checking for null values \n",
    "df.isna().sum()"
   ]
  },
  {
   "cell_type": "markdown",
   "id": "1f231815-5285-4695-87f4-96016ce4d16f",
   "metadata": {},
   "source": [
    "We don't have any null values which means we don't need any imputations strategy \n",
    "\n",
    "We should also check wheter the Date columns is a datetime data Type "
   ]
  },
  {
   "cell_type": "code",
   "execution_count": 38,
   "id": "100b2635-f36a-48f0-b656-ba8fe0219b9d",
   "metadata": {},
   "outputs": [
    {
     "data": {
      "text/plain": [
       "(1009, 7)"
      ]
     },
     "execution_count": 38,
     "metadata": {},
     "output_type": "execute_result"
    }
   ],
   "source": [
    "df.shape"
   ]
  },
  {
   "cell_type": "code",
   "execution_count": 39,
   "id": "f99ba140-0b63-4aa8-88f8-f213cd37874a",
   "metadata": {},
   "outputs": [
    {
     "data": {
      "text/html": [
       "<div>\n",
       "<style scoped>\n",
       "    .dataframe tbody tr th:only-of-type {\n",
       "        vertical-align: middle;\n",
       "    }\n",
       "\n",
       "    .dataframe tbody tr th {\n",
       "        vertical-align: top;\n",
       "    }\n",
       "\n",
       "    .dataframe thead th {\n",
       "        text-align: right;\n",
       "    }\n",
       "</style>\n",
       "<table border=\"1\" class=\"dataframe\">\n",
       "  <thead>\n",
       "    <tr style=\"text-align: right;\">\n",
       "      <th></th>\n",
       "      <th>Open</th>\n",
       "      <th>High</th>\n",
       "      <th>Low</th>\n",
       "      <th>Close</th>\n",
       "      <th>Adj Close</th>\n",
       "      <th>Volume</th>\n",
       "    </tr>\n",
       "  </thead>\n",
       "  <tbody>\n",
       "    <tr>\n",
       "      <th>count</th>\n",
       "      <td>1009.000000</td>\n",
       "      <td>1009.000000</td>\n",
       "      <td>1009.000000</td>\n",
       "      <td>1009.000000</td>\n",
       "      <td>1009.000000</td>\n",
       "      <td>1.009000e+03</td>\n",
       "    </tr>\n",
       "    <tr>\n",
       "      <th>mean</th>\n",
       "      <td>419.059673</td>\n",
       "      <td>425.320703</td>\n",
       "      <td>412.374044</td>\n",
       "      <td>419.000733</td>\n",
       "      <td>419.000733</td>\n",
       "      <td>7.570685e+06</td>\n",
       "    </tr>\n",
       "    <tr>\n",
       "      <th>std</th>\n",
       "      <td>108.537532</td>\n",
       "      <td>109.262960</td>\n",
       "      <td>107.555867</td>\n",
       "      <td>108.289999</td>\n",
       "      <td>108.289999</td>\n",
       "      <td>5.465535e+06</td>\n",
       "    </tr>\n",
       "    <tr>\n",
       "      <th>min</th>\n",
       "      <td>233.919998</td>\n",
       "      <td>250.649994</td>\n",
       "      <td>231.229996</td>\n",
       "      <td>233.880005</td>\n",
       "      <td>233.880005</td>\n",
       "      <td>1.144000e+06</td>\n",
       "    </tr>\n",
       "    <tr>\n",
       "      <th>25%</th>\n",
       "      <td>331.489990</td>\n",
       "      <td>336.299988</td>\n",
       "      <td>326.000000</td>\n",
       "      <td>331.619995</td>\n",
       "      <td>331.619995</td>\n",
       "      <td>4.091900e+06</td>\n",
       "    </tr>\n",
       "    <tr>\n",
       "      <th>50%</th>\n",
       "      <td>377.769989</td>\n",
       "      <td>383.010010</td>\n",
       "      <td>370.880005</td>\n",
       "      <td>378.670013</td>\n",
       "      <td>378.670013</td>\n",
       "      <td>5.934500e+06</td>\n",
       "    </tr>\n",
       "    <tr>\n",
       "      <th>75%</th>\n",
       "      <td>509.130005</td>\n",
       "      <td>515.630005</td>\n",
       "      <td>502.529999</td>\n",
       "      <td>509.079987</td>\n",
       "      <td>509.079987</td>\n",
       "      <td>9.322400e+06</td>\n",
       "    </tr>\n",
       "    <tr>\n",
       "      <th>max</th>\n",
       "      <td>692.349976</td>\n",
       "      <td>700.989990</td>\n",
       "      <td>686.090027</td>\n",
       "      <td>691.690002</td>\n",
       "      <td>691.690002</td>\n",
       "      <td>5.890430e+07</td>\n",
       "    </tr>\n",
       "  </tbody>\n",
       "</table>\n",
       "</div>"
      ],
      "text/plain": [
       "              Open         High          Low        Close    Adj Close  \\\n",
       "count  1009.000000  1009.000000  1009.000000  1009.000000  1009.000000   \n",
       "mean    419.059673   425.320703   412.374044   419.000733   419.000733   \n",
       "std     108.537532   109.262960   107.555867   108.289999   108.289999   \n",
       "min     233.919998   250.649994   231.229996   233.880005   233.880005   \n",
       "25%     331.489990   336.299988   326.000000   331.619995   331.619995   \n",
       "50%     377.769989   383.010010   370.880005   378.670013   378.670013   \n",
       "75%     509.130005   515.630005   502.529999   509.079987   509.079987   \n",
       "max     692.349976   700.989990   686.090027   691.690002   691.690002   \n",
       "\n",
       "             Volume  \n",
       "count  1.009000e+03  \n",
       "mean   7.570685e+06  \n",
       "std    5.465535e+06  \n",
       "min    1.144000e+06  \n",
       "25%    4.091900e+06  \n",
       "50%    5.934500e+06  \n",
       "75%    9.322400e+06  \n",
       "max    5.890430e+07  "
      ]
     },
     "execution_count": 39,
     "metadata": {},
     "output_type": "execute_result"
    }
   ],
   "source": [
    "df.describe()"
   ]
  },
  {
   "cell_type": "code",
   "execution_count": 40,
   "id": "915a1928-43ef-46b7-9909-94564fd2b084",
   "metadata": {},
   "outputs": [
    {
     "data": {
      "text/plain": [
       "dtype('<M8[ns]')"
      ]
     },
     "execution_count": 40,
     "metadata": {},
     "output_type": "execute_result"
    }
   ],
   "source": [
    "df[\"Date\"].dtype"
   ]
  },
  {
   "cell_type": "markdown",
   "id": "6bac6cb4-6715-4644-824f-6c63ca1942eb",
   "metadata": {},
   "source": [
    "So our Date column is of Date Time and hence we don't need to convert it"
   ]
  },
  {
   "cell_type": "markdown",
   "id": "6dc4ef0e-15e2-4af2-be5e-ab6d8d82d76b",
   "metadata": {},
   "source": [
    "## Exploratory Data Analsis \n",
    "Using visualization is a very effecient way to get insights from a data set. "
   ]
  },
  {
   "cell_type": "code",
   "execution_count": 42,
   "id": "6c88b075-a358-4943-8be4-fcf6566b0d0d",
   "metadata": {},
   "outputs": [
    {
     "data": {
      "image/png": "[encoded data removed]",
      "text/plain": [
       "<Figure size 640x480 with 1 Axes>"
      ]
     },
     "metadata": {},
     "output_type": "display_data"
    }
   ],
   "source": [
    "#Plotting the Closing values of stock over the entirirty of Dataframe\n",
    "df.plot(x=\"Date\",y=\"Close\")\n",
    "plt.xlabel(\"Date\")\n",
    "plt.ylabel(\"Price\")\n",
    "plt.title(\"Variation of closing price \");"
   ]
  },
  {
   "cell_type": "markdown",
   "id": "6612e3fd-c283-426c-9bba-c07af7c3969a",
   "metadata": {},
   "source": [
    "# Modelling"
   ]
  },
  {
   "cell_type": "markdown",
   "id": "c71cbd0d-107c-4dd0-ad59-4495202145ba",
   "metadata": {},
   "source": [
    "Let us start by building the most basic linear model called 'Linear Regression' "
   ]
  },
  {
   "cell_type": "markdown",
   "id": "930e6f29-4f1d-4091-b129-c91847d280db",
   "metadata": {},
   "source": [
    "## Linear Regression\n",
    "\n",
    "The most basic machine learning algorithm that can be implemented on this data is linear regression. The linear regression model returns an equation that determines the relationship between the independent variables and the dependent variable.ights"
   ]
  },
  {
   "cell_type": "code",
   "execution_count": 46,
   "id": "ee5a3cc8-331d-4b8a-94ce-4cf373218a4b",
   "metadata": {},
   "outputs": [],
   "source": [
    "#Setting the index as date \n",
    "df.index = df[\"Date\"]"
   ]
  },
  {
   "cell_type": "code",
   "execution_count": 49,
   "id": "74798a70-38cb-481c-98bf-382c09164ad9",
   "metadata": {},
   "outputs": [
    {
     "data": {
      "text/plain": [
       "dtype('<M8[ns]')"
      ]
     },
     "execution_count": 49,
     "metadata": {},
     "output_type": "execute_result"
    }
   ],
   "source": [
    "#We also need additional features for a good linear regression model , we can use a library called fastAi "
   ]
  },
  {
   "cell_type": "markdown",
   "id": "748b4b6f-bd9c-45e0-8e15-dc9ee9cf17eb",
   "metadata": {},
   "source": [
    "### Implementation\n",
    "We will first sort the dataset in ascending order and then create a separate dataset so that any new feature created does not affect the original data."
   ]
  },
  {
   "cell_type": "code",
   "execution_count": 50,
   "id": "4cf927f5-48d9-486d-a460-c41afb6f09ce",
   "metadata": {},
   "outputs": [],
   "source": [
    "data = df.sort_index(ascending=True, axis=0)"
   ]
  },
  {
   "cell_type": "code",
   "execution_count": 51,
   "id": "f967cf4b-0c70-4463-9296-dd7df526126b",
   "metadata": {},
   "outputs": [],
   "source": [
    "# Creating a new data Frame\n",
    "new_data = pd.DataFrame(index=range(0,len(df)),columns=['Date', 'Close'])"
   ]
  },
  {
   "cell_type": "code",
   "execution_count": 53,
   "id": "49d6c774-28fb-46c6-a855-4c639601f0b1",
   "metadata": {},
   "outputs": [],
   "source": [
    "for i in range(0,len(data)):\n",
    "    new_data['Date'][i] = data['Date'][i]\n",
    "    new_data['Close'][i] = data['Close'][i]\n",
    "    "
   ]
  },
  {
   "cell_type": "code",
   "execution_count": 54,
   "id": "09842f6b-dd21-49d0-8503-2e526225abc4",
   "metadata": {},
   "outputs": [
    {
     "data": {
      "text/html": [
       "<div>\n",
       "<style scoped>\n",
       "    .dataframe tbody tr th:only-of-type {\n",
       "        vertical-align: middle;\n",
       "    }\n",
       "\n",
       "    .dataframe tbody tr th {\n",
       "        vertical-align: top;\n",
       "    }\n",
       "\n",
       "    .dataframe thead th {\n",
       "        text-align: right;\n",
       "    }\n",
       "</style>\n",
       "<table border=\"1\" class=\"dataframe\">\n",
       "  <thead>\n",
       "    <tr style=\"text-align: right;\">\n",
       "      <th></th>\n",
       "      <th>Date</th>\n",
       "      <th>Close</th>\n",
       "    </tr>\n",
       "  </thead>\n",
       "  <tbody>\n",
       "    <tr>\n",
       "      <th>0</th>\n",
       "      <td>2018-02-05 00:00:00</td>\n",
       "      <td>254.259995</td>\n",
       "    </tr>\n",
       "    <tr>\n",
       "      <th>1</th>\n",
       "      <td>2018-02-06 00:00:00</td>\n",
       "      <td>265.720001</td>\n",
       "    </tr>\n",
       "    <tr>\n",
       "      <th>2</th>\n",
       "      <td>2018-02-07 00:00:00</td>\n",
       "      <td>264.559998</td>\n",
       "    </tr>\n",
       "    <tr>\n",
       "      <th>3</th>\n",
       "      <td>2018-02-08 00:00:00</td>\n",
       "      <td>250.100006</td>\n",
       "    </tr>\n",
       "    <tr>\n",
       "      <th>4</th>\n",
       "      <td>2018-02-09 00:00:00</td>\n",
       "      <td>249.470001</td>\n",
       "    </tr>\n",
       "  </tbody>\n",
       "</table>\n",
       "</div>"
      ],
      "text/plain": [
       "                  Date       Close\n",
       "0  2018-02-05 00:00:00  254.259995\n",
       "1  2018-02-06 00:00:00  265.720001\n",
       "2  2018-02-07 00:00:00  264.559998\n",
       "3  2018-02-08 00:00:00  250.100006\n",
       "4  2018-02-09 00:00:00  249.470001"
      ]
     },
     "execution_count": 54,
     "metadata": {},
     "output_type": "execute_result"
    }
   ],
   "source": [
    "new_data.head()"
   ]
  },
  {
   "cell_type": "markdown",
   "id": "5b86066b-49d3-4177-a736-16880b250490",
   "metadata": {},
   "source": [
    "We also need to create addtional features from the date dataset . We can either do it manually or use a library called fastai"
   ]
  },
  {
   "cell_type": "code",
   "execution_count": 59,
   "id": "0f13dadf-0caf-4cae-b51c-0216a271d5b1",
   "metadata": {},
   "outputs": [],
   "source": [
    "from fastai.tabular.all import *\n",
    "add_datepart(new_data, 'Date')\n",
    "new_data.drop('Elapsed', axis=1, inplace=True)  #elapsed will be the time stamp"
   ]
  },
  {
   "cell_type": "markdown",
   "id": "ac33fe65-71a0-41e1-a5b0-7a3dc3e56d4b",
   "metadata": {},
   "source": [
    "This will add new features in our dataset like Month , week , Day etc "
   ]
  },
  {
   "cell_type": "code",
   "execution_count": 60,
   "id": "d537ae5e-ec61-4686-b43b-0c413a489d56",
   "metadata": {},
   "outputs": [
    {
     "data": {
      "text/html": [
       "<div>\n",
       "<style scoped>\n",
       "    .dataframe tbody tr th:only-of-type {\n",
       "        vertical-align: middle;\n",
       "    }\n",
       "\n",
       "    .dataframe tbody tr th {\n",
       "        vertical-align: top;\n",
       "    }\n",
       "\n",
       "    .dataframe thead th {\n",
       "        text-align: right;\n",
       "    }\n",
       "</style>\n",
       "<table border=\"1\" class=\"dataframe\">\n",
       "  <thead>\n",
       "    <tr style=\"text-align: right;\">\n",
       "      <th></th>\n",
       "      <th>Close</th>\n",
       "      <th>Year</th>\n",
       "      <th>Month</th>\n",
       "      <th>Week</th>\n",
       "      <th>Day</th>\n",
       "      <th>Dayofweek</th>\n",
       "      <th>Dayofyear</th>\n",
       "      <th>Is_month_end</th>\n",
       "      <th>Is_month_start</th>\n",
       "      <th>Is_quarter_end</th>\n",
       "      <th>Is_quarter_start</th>\n",
       "      <th>Is_year_end</th>\n",
       "      <th>Is_year_start</th>\n",
       "    </tr>\n",
       "  </thead>\n",
       "  <tbody>\n",
       "    <tr>\n",
       "      <th>0</th>\n",
       "      <td>254.259995</td>\n",
       "      <td>2018</td>\n",
       "      <td>2</td>\n",
       "      <td>6</td>\n",
       "      <td>5</td>\n",
       "      <td>0</td>\n",
       "      <td>36</td>\n",
       "      <td>False</td>\n",
       "      <td>False</td>\n",
       "      <td>False</td>\n",
       "      <td>False</td>\n",
       "      <td>False</td>\n",
       "      <td>False</td>\n",
       "    </tr>\n",
       "    <tr>\n",
       "      <th>1</th>\n",
       "      <td>265.720001</td>\n",
       "      <td>2018</td>\n",
       "      <td>2</td>\n",
       "      <td>6</td>\n",
       "      <td>6</td>\n",
       "      <td>1</td>\n",
       "      <td>37</td>\n",
       "      <td>False</td>\n",
       "      <td>False</td>\n",
       "      <td>False</td>\n",
       "      <td>False</td>\n",
       "      <td>False</td>\n",
       "      <td>False</td>\n",
       "    </tr>\n",
       "    <tr>\n",
       "      <th>2</th>\n",
       "      <td>264.559998</td>\n",
       "      <td>2018</td>\n",
       "      <td>2</td>\n",
       "      <td>6</td>\n",
       "      <td>7</td>\n",
       "      <td>2</td>\n",
       "      <td>38</td>\n",
       "      <td>False</td>\n",
       "      <td>False</td>\n",
       "      <td>False</td>\n",
       "      <td>False</td>\n",
       "      <td>False</td>\n",
       "      <td>False</td>\n",
       "    </tr>\n",
       "    <tr>\n",
       "      <th>3</th>\n",
       "      <td>250.100006</td>\n",
       "      <td>2018</td>\n",
       "      <td>2</td>\n",
       "      <td>6</td>\n",
       "      <td>8</td>\n",
       "      <td>3</td>\n",
       "      <td>39</td>\n",
       "      <td>False</td>\n",
       "      <td>False</td>\n",
       "      <td>False</td>\n",
       "      <td>False</td>\n",
       "      <td>False</td>\n",
       "      <td>False</td>\n",
       "    </tr>\n",
       "    <tr>\n",
       "      <th>4</th>\n",
       "      <td>249.470001</td>\n",
       "      <td>2018</td>\n",
       "      <td>2</td>\n",
       "      <td>6</td>\n",
       "      <td>9</td>\n",
       "      <td>4</td>\n",
       "      <td>40</td>\n",
       "      <td>False</td>\n",
       "      <td>False</td>\n",
       "      <td>False</td>\n",
       "      <td>False</td>\n",
       "      <td>False</td>\n",
       "      <td>False</td>\n",
       "    </tr>\n",
       "  </tbody>\n",
       "</table>\n",
       "</div>"
      ],
      "text/plain": [
       "        Close  Year  Month  Week  Day  Dayofweek  Dayofyear  Is_month_end  \\\n",
       "0  254.259995  2018      2     6    5          0         36         False   \n",
       "1  265.720001  2018      2     6    6          1         37         False   \n",
       "2  264.559998  2018      2     6    7          2         38         False   \n",
       "3  250.100006  2018      2     6    8          3         39         False   \n",
       "4  249.470001  2018      2     6    9          4         40         False   \n",
       "\n",
       "   Is_month_start  Is_quarter_end  Is_quarter_start  Is_year_end  \\\n",
       "0           False           False             False        False   \n",
       "1           False           False             False        False   \n",
       "2           False           False             False        False   \n",
       "3           False           False             False        False   \n",
       "4           False           False             False        False   \n",
       "\n",
       "   Is_year_start  \n",
       "0          False  \n",
       "1          False  \n",
       "2          False  \n",
       "3          False  \n",
       "4          False  "
      ]
     },
     "execution_count": 60,
     "metadata": {},
     "output_type": "execute_result"
    }
   ],
   "source": [
    "new_data.head()"
   ]
  },
  {
   "cell_type": "markdown",
   "id": "171d7cd5-1140-41f2-89f1-9959aff7ddeb",
   "metadata": {},
   "source": [
    "### Splitting the data and Implementing Linear Regression \n",
    "We can't split data randomly as it will break the timeseries and hence we need to split data sequentially"
   ]
  },
  {
   "cell_type": "code",
   "execution_count": 68,
   "id": "20434238-cf7a-4bbf-9c89-2cf437b967fe",
   "metadata": {},
   "outputs": [
    {
     "data": {
      "text/html": [
       "<style>#sk-container-id-1 {color: black;}#sk-container-id-1 pre{padding: 0;}#sk-container-id-1 div.sk-toggleable {background-color: white;}#sk-container-id-1 label.sk-toggleable__label {cursor: pointer;display: block;width: 100%;margin-bottom: 0;padding: 0.3em;box-sizing: border-box;text-align: center;}#sk-container-id-1 label.sk-toggleable__label-arrow:before {content: \"▸\";float: left;margin-right: 0.25em;color: #696969;}#sk-container-id-1 label.sk-toggleable__label-arrow:hover:before {color: black;}#sk-container-id-1 div.sk-estimator:hover label.sk-toggleable__label-arrow:before {color: black;}#sk-container-id-1 div.sk-toggleable__content {max-height: 0;max-width: 0;overflow: hidden;text-align: left;background-color: #f0f8ff;}#sk-container-id-1 div.sk-toggleable__content pre {margin: 0.2em;color: black;border-radius: 0.25em;background-color: #f0f8ff;}#sk-container-id-1 input.sk-toggleable__control:checked~div.sk-toggleable__content {max-height: 200px;max-width: 100%;overflow: auto;}#sk-container-id-1 input.sk-toggleable__control:checked~label.sk-toggleable__label-arrow:before {content: \"▾\";}#sk-container-id-1 div.sk-estimator input.sk-toggleable__control:checked~label.sk-toggleable__label {background-color: #d4ebff;}#sk-container-id-1 div.sk-label input.sk-toggleable__control:checked~label.sk-toggleable__label {background-color: #d4ebff;}#sk-container-id-1 input.sk-hidden--visually {border: 0;clip: rect(1px 1px 1px 1px);clip: rect(1px, 1px, 1px, 1px);height: 1px;margin: -1px;overflow: hidden;padding: 0;position: absolute;width: 1px;}#sk-container-id-1 div.sk-estimator {font-family: monospace;background-color: #f0f8ff;border: 1px dotted black;border-radius: 0.25em;box-sizing: border-box;margin-bottom: 0.5em;}#sk-container-id-1 div.sk-estimator:hover {background-color: #d4ebff;}#sk-container-id-1 div.sk-parallel-item::after {content: \"\";width: 100%;border-bottom: 1px solid gray;flex-grow: 1;}#sk-container-id-1 div.sk-label:hover label.sk-toggleable__label {background-color: #d4ebff;}#sk-container-id-1 div.sk-serial::before {content: \"\";position: absolute;border-left: 1px solid gray;box-sizing: border-box;top: 0;bottom: 0;left: 50%;z-index: 0;}#sk-container-id-1 div.sk-serial {display: flex;flex-direction: column;align-items: center;background-color: white;padding-right: 0.2em;padding-left: 0.2em;position: relative;}#sk-container-id-1 div.sk-item {position: relative;z-index: 1;}#sk-container-id-1 div.sk-parallel {display: flex;align-items: stretch;justify-content: center;background-color: white;position: relative;}#sk-container-id-1 div.sk-item::before, #sk-container-id-1 div.sk-parallel-item::before {content: \"\";position: absolute;border-left: 1px solid gray;box-sizing: border-box;top: 0;bottom: 0;left: 50%;z-index: -1;}#sk-container-id-1 div.sk-parallel-item {display: flex;flex-direction: column;z-index: 1;position: relative;background-color: white;}#sk-container-id-1 div.sk-parallel-item:first-child::after {align-self: flex-end;width: 50%;}#sk-container-id-1 div.sk-parallel-item:last-child::after {align-self: flex-start;width: 50%;}#sk-container-id-1 div.sk-parallel-item:only-child::after {width: 0;}#sk-container-id-1 div.sk-dashed-wrapped {border: 1px dashed gray;margin: 0 0.4em 0.5em 0.4em;box-sizing: border-box;padding-bottom: 0.4em;background-color: white;}#sk-container-id-1 div.sk-label label {font-family: monospace;font-weight: bold;display: inline-block;line-height: 1.2em;}#sk-container-id-1 div.sk-label-container {text-align: center;}#sk-container-id-1 div.sk-container {/* jupyter's `normalize.less` sets `[hidden] { display: none; }` but bootstrap.min.css set `[hidden] { display: none !important; }` so we also need the `!important` here to be able to override the default hidden behavior on the sphinx rendered scikit-learn.org. See: https://github.com/scikit-learn/scikit-learn/issues/21755 */display: inline-block !important;position: relative;}#sk-container-id-1 div.sk-text-repr-fallback {display: none;}</style><div id=\"sk-container-id-1\" class=\"sk-top-container\"><div class=\"sk-text-repr-fallback\"><pre>LinearRegression()</pre><b>In a Jupyter environment, please rerun this cell to show the HTML representation or trust the notebook. <br />On GitHub, the HTML representation is unable to render, please try loading this page with nbviewer.org.</b></div><div class=\"sk-container\" hidden><div class=\"sk-item\"><div class=\"sk-estimator sk-toggleable\"><input class=\"sk-toggleable__control sk-hidden--visually\" id=\"sk-estimator-id-1\" type=\"checkbox\" checked><label for=\"sk-estimator-id-1\" class=\"sk-toggleable__label sk-toggleable__label-arrow\">LinearRegression</label><div class=\"sk-toggleable__content\"><pre>LinearRegression()</pre></div></div></div></div></div>"
      ],
      "text/plain": [
       "LinearRegression()"
      ]
     },
     "execution_count": 68,
     "metadata": {},
     "output_type": "execute_result"
    }
   ],
   "source": [
    "train = new_data[:987]   #70-30% in Trainign -Testing Respectiely\n",
    "valid = new_data[987:]\n",
    "\n",
    "x_train = train.drop('Close', axis=1)\n",
    "y_train = train['Close']\n",
    "x_valid = valid.drop('Close', axis=1)\n",
    "y_valid = valid['Close']\n",
    "\n",
    "#implement linear regression\n",
    "from sklearn.linear_model import LinearRegression\n",
    "model = LinearRegression()\n",
    "model.fit(x_train,y_train)"
   ]
  },
  {
   "cell_type": "code",
   "execution_count": 69,
   "id": "7be99234-e915-4b13-b3f7-5a7864ac843a",
   "metadata": {},
   "outputs": [
    {
     "data": {
      "text/plain": [
       "137.64632633672042"
      ]
     },
     "execution_count": 69,
     "metadata": {},
     "output_type": "execute_result"
    }
   ],
   "source": [
    "#Predicting \n",
    "preds = model.predict(x_valid)\n",
    "rms=np.sqrt(np.mean(np.power((np.array(y_valid)-np.array(preds)),2)))\n",
    "rms"
   ]
  },
  {
   "cell_type": "markdown",
   "id": "42622724-01e9-4d9c-a0a0-b2ae9829357d",
   "metadata": {},
   "source": [
    "we have an RMS of 137 which is very high and it proves that Linear Models are not very effective for Stock Data "
   ]
  },
  {
   "cell_type": "markdown",
   "id": "70927481-9e2a-4b93-b097-5725eb9fa3e2",
   "metadata": {},
   "source": [
    "### Conclusion"
   ]
  },
  {
   "cell_type": "markdown",
   "id": "6a2e10b1-0dff-48e4-a587-ca9dbdd72291",
   "metadata": {},
   "source": [
    "Linear regression is a simple technique and quite easy to interpret, but there are a few obvious disadvantages. One problem in using regression algorithms is that the model overfits to the date and month column. Instead of taking into account the previous values from the point of prediction, the model will consider the value from the same date a month ago, or the same date/month a year ago."
   ]
  },
  {
   "cell_type": "markdown",
   "id": "3558f356-d95d-4fae-a488-fe2a3945a468",
   "metadata": {},
   "source": [
    "# LSTM\n",
    "\n",
    "Next We will use the Long Short-Term Memory(LSTM) method to create a Machine Learning model to forecast Microsoft Corporation stock values. They are used to make minor changes to the information by multiplying and adding. Long-term memory (LSTM) is a deep learning artificial recurrent neural network (RNN) architecture.\r\n",
    "\r\n",
    "Unlike traditional feed-forward neural networks, LSTM has feedback connections. It can handle single data points (such as pictures) as well as full data sequences (such as speech or video\n",
    "\n",
    "LSTM too is widely used for forecasting of stock prices)."
   ]
  },
  {
   "cell_type": "code",
   "execution_count": 51,
   "id": "1f400ecc-84f8-49dc-994a-130deeab8c45",
   "metadata": {},
   "outputs": [],
   "source": [
    "#Importing Libraries \n",
    "from sklearn.preprocessing import StandardScaler\n",
    "from sklearn.preprocessing import MinMaxScaler\n",
    "from sklearn import metrics\n",
    "from keras.models import Sequential\n",
    "from keras.layers import Dense,LSTM,Dropout"
   ]
  },
  {
   "cell_type": "code",
   "execution_count": 52,
   "id": "0e999616-a477-438a-b9a4-b4fac5a06257",
   "metadata": {},
   "outputs": [],
   "source": [
    "df = pd.read_excel(\"Stock Price Prediction.xlsx\")"
   ]
  },
  {
   "cell_type": "code",
   "execution_count": 53,
   "id": "274497e5-35f0-4566-9e46-14d24cda91d8",
   "metadata": {},
   "outputs": [],
   "source": [
    "#Setting date as index \n",
    "df.index=df[\"Date\"]"
   ]
  },
  {
   "cell_type": "code",
   "execution_count": 29,
   "id": "98d43822-076e-41f5-a9e6-15e66a1962dd",
   "metadata": {},
   "outputs": [
    {
     "data": {
      "text/html": [
       "<div>\n",
       "<style scoped>\n",
       "    .dataframe tbody tr th:only-of-type {\n",
       "        vertical-align: middle;\n",
       "    }\n",
       "\n",
       "    .dataframe tbody tr th {\n",
       "        vertical-align: top;\n",
       "    }\n",
       "\n",
       "    .dataframe thead th {\n",
       "        text-align: right;\n",
       "    }\n",
       "</style>\n",
       "<table border=\"1\" class=\"dataframe\">\n",
       "  <thead>\n",
       "    <tr style=\"text-align: right;\">\n",
       "      <th></th>\n",
       "      <th>Date</th>\n",
       "      <th>Open</th>\n",
       "      <th>High</th>\n",
       "      <th>Low</th>\n",
       "      <th>Close</th>\n",
       "      <th>Adj Close</th>\n",
       "      <th>Volume</th>\n",
       "    </tr>\n",
       "    <tr>\n",
       "      <th>Date</th>\n",
       "      <th></th>\n",
       "      <th></th>\n",
       "      <th></th>\n",
       "      <th></th>\n",
       "      <th></th>\n",
       "      <th></th>\n",
       "      <th></th>\n",
       "    </tr>\n",
       "  </thead>\n",
       "  <tbody>\n",
       "    <tr>\n",
       "      <th>2018-02-05</th>\n",
       "      <td>2018-02-05</td>\n",
       "      <td>262.000000</td>\n",
       "      <td>267.899994</td>\n",
       "      <td>250.029999</td>\n",
       "      <td>254.259995</td>\n",
       "      <td>254.259995</td>\n",
       "      <td>11896100</td>\n",
       "    </tr>\n",
       "    <tr>\n",
       "      <th>2018-02-06</th>\n",
       "      <td>2018-02-06</td>\n",
       "      <td>247.699997</td>\n",
       "      <td>266.700012</td>\n",
       "      <td>245.000000</td>\n",
       "      <td>265.720001</td>\n",
       "      <td>265.720001</td>\n",
       "      <td>12595800</td>\n",
       "    </tr>\n",
       "    <tr>\n",
       "      <th>2018-02-07</th>\n",
       "      <td>2018-02-07</td>\n",
       "      <td>266.579987</td>\n",
       "      <td>272.450012</td>\n",
       "      <td>264.329987</td>\n",
       "      <td>264.559998</td>\n",
       "      <td>264.559998</td>\n",
       "      <td>8981500</td>\n",
       "    </tr>\n",
       "    <tr>\n",
       "      <th>2018-02-08</th>\n",
       "      <td>2018-02-08</td>\n",
       "      <td>267.079987</td>\n",
       "      <td>267.619995</td>\n",
       "      <td>250.000000</td>\n",
       "      <td>250.100006</td>\n",
       "      <td>250.100006</td>\n",
       "      <td>9306700</td>\n",
       "    </tr>\n",
       "    <tr>\n",
       "      <th>2018-02-09</th>\n",
       "      <td>2018-02-09</td>\n",
       "      <td>253.850006</td>\n",
       "      <td>255.800003</td>\n",
       "      <td>236.110001</td>\n",
       "      <td>249.470001</td>\n",
       "      <td>249.470001</td>\n",
       "      <td>16906900</td>\n",
       "    </tr>\n",
       "  </tbody>\n",
       "</table>\n",
       "</div>"
      ],
      "text/plain": [
       "                 Date        Open        High         Low       Close  \\\n",
       "Date                                                                    \n",
       "2018-02-05 2018-02-05  262.000000  267.899994  250.029999  254.259995   \n",
       "2018-02-06 2018-02-06  247.699997  266.700012  245.000000  265.720001   \n",
       "2018-02-07 2018-02-07  266.579987  272.450012  264.329987  264.559998   \n",
       "2018-02-08 2018-02-08  267.079987  267.619995  250.000000  250.100006   \n",
       "2018-02-09 2018-02-09  253.850006  255.800003  236.110001  249.470001   \n",
       "\n",
       "             Adj Close    Volume  \n",
       "Date                              \n",
       "2018-02-05  254.259995  11896100  \n",
       "2018-02-06  265.720001  12595800  \n",
       "2018-02-07  264.559998   8981500  \n",
       "2018-02-08  250.100006   9306700  \n",
       "2018-02-09  249.470001  16906900  "
      ]
     },
     "execution_count": 29,
     "metadata": {},
     "output_type": "execute_result"
    }
   ],
   "source": [
    "df.head()"
   ]
  },
  {
   "cell_type": "markdown",
   "id": "fa0dc572-ca75-476d-9aec-257c9a23d838",
   "metadata": {},
   "source": [
    "### Splitting the data into training and testing sets"
   ]
  },
  {
   "cell_type": "code",
   "execution_count": 54,
   "id": "25a8c430-5ca1-440f-8119-5c19dc1767b6",
   "metadata": {},
   "outputs": [
    {
     "name": "stdout",
     "output_type": "stream",
     "text": [
      "(706, 1)\n",
      "(303, 1)\n"
     ]
    }
   ],
   "source": [
    "df_train = pd.DataFrame(df['Close'][0:int(len(df)*0.70)])             #70% used as a training data\n",
    "df_test = pd.DataFrame(df['Close'][int(len(df)*0.70):int(len(df))])   #30% used as a testing data\n",
    "\n",
    "print(df_train.shape)\n",
    "print(df_test.shape)\n"
   ]
  },
  {
   "cell_type": "code",
   "execution_count": 55,
   "id": "299fef26-072c-4bec-bc9e-a7016a3532b3",
   "metadata": {},
   "outputs": [
    {
     "data": {
      "text/html": [
       "<div>\n",
       "<style scoped>\n",
       "    .dataframe tbody tr th:only-of-type {\n",
       "        vertical-align: middle;\n",
       "    }\n",
       "\n",
       "    .dataframe tbody tr th {\n",
       "        vertical-align: top;\n",
       "    }\n",
       "\n",
       "    .dataframe thead th {\n",
       "        text-align: right;\n",
       "    }\n",
       "</style>\n",
       "<table border=\"1\" class=\"dataframe\">\n",
       "  <thead>\n",
       "    <tr style=\"text-align: right;\">\n",
       "      <th></th>\n",
       "      <th>Close</th>\n",
       "    </tr>\n",
       "    <tr>\n",
       "      <th>Date</th>\n",
       "      <th></th>\n",
       "    </tr>\n",
       "  </thead>\n",
       "  <tbody>\n",
       "    <tr>\n",
       "      <th>2020-11-23</th>\n",
       "      <td>476.619995</td>\n",
       "    </tr>\n",
       "    <tr>\n",
       "      <th>2020-11-24</th>\n",
       "      <td>482.880005</td>\n",
       "    </tr>\n",
       "    <tr>\n",
       "      <th>2020-11-25</th>\n",
       "      <td>485.000000</td>\n",
       "    </tr>\n",
       "    <tr>\n",
       "      <th>2020-11-27</th>\n",
       "      <td>491.359985</td>\n",
       "    </tr>\n",
       "    <tr>\n",
       "      <th>2020-11-30</th>\n",
       "      <td>490.700012</td>\n",
       "    </tr>\n",
       "  </tbody>\n",
       "</table>\n",
       "</div>"
      ],
      "text/plain": [
       "                 Close\n",
       "Date                  \n",
       "2020-11-23  476.619995\n",
       "2020-11-24  482.880005\n",
       "2020-11-25  485.000000\n",
       "2020-11-27  491.359985\n",
       "2020-11-30  490.700012"
      ]
     },
     "execution_count": 55,
     "metadata": {},
     "output_type": "execute_result"
    }
   ],
   "source": [
    "df_test.head()"
   ]
  },
  {
   "cell_type": "code",
   "execution_count": 32,
   "id": "2174b703-3e3c-4c42-bed4-748a7ae347d5",
   "metadata": {},
   "outputs": [
    {
     "data": {
      "text/html": [
       "<div>\n",
       "<style scoped>\n",
       "    .dataframe tbody tr th:only-of-type {\n",
       "        vertical-align: middle;\n",
       "    }\n",
       "\n",
       "    .dataframe tbody tr th {\n",
       "        vertical-align: top;\n",
       "    }\n",
       "\n",
       "    .dataframe thead th {\n",
       "        text-align: right;\n",
       "    }\n",
       "</style>\n",
       "<table border=\"1\" class=\"dataframe\">\n",
       "  <thead>\n",
       "    <tr style=\"text-align: right;\">\n",
       "      <th></th>\n",
       "      <th>Close</th>\n",
       "    </tr>\n",
       "    <tr>\n",
       "      <th>Date</th>\n",
       "      <th></th>\n",
       "    </tr>\n",
       "  </thead>\n",
       "  <tbody>\n",
       "    <tr>\n",
       "      <th>2018-02-05</th>\n",
       "      <td>254.259995</td>\n",
       "    </tr>\n",
       "    <tr>\n",
       "      <th>2018-02-06</th>\n",
       "      <td>265.720001</td>\n",
       "    </tr>\n",
       "    <tr>\n",
       "      <th>2018-02-07</th>\n",
       "      <td>264.559998</td>\n",
       "    </tr>\n",
       "    <tr>\n",
       "      <th>2018-02-08</th>\n",
       "      <td>250.100006</td>\n",
       "    </tr>\n",
       "    <tr>\n",
       "      <th>2018-02-09</th>\n",
       "      <td>249.470001</td>\n",
       "    </tr>\n",
       "  </tbody>\n",
       "</table>\n",
       "</div>"
      ],
      "text/plain": [
       "                 Close\n",
       "Date                  \n",
       "2018-02-05  254.259995\n",
       "2018-02-06  265.720001\n",
       "2018-02-07  264.559998\n",
       "2018-02-08  250.100006\n",
       "2018-02-09  249.470001"
      ]
     },
     "execution_count": 32,
     "metadata": {},
     "output_type": "execute_result"
    }
   ],
   "source": [
    "df_train.head()"
   ]
  },
  {
   "cell_type": "markdown",
   "id": "aa10887c-2390-4791-b282-72ea1dc9b76d",
   "metadata": {},
   "source": [
    "### Scaling\n",
    "\n",
    "To decrease the computational cost of the data in the table, we will scale the stock values to values between 0 and 1. As a result, all of the data in large numbers is reduced, and therefore memory consumption is decreased. Also, because the data is not spread out in huge values, we can achieve greater precision by scaling down. To perform this, we will be using the MinMaxScaler class of the sci-kit-learn library."
   ]
  },
  {
   "cell_type": "code",
   "execution_count": 56,
   "id": "15ad868d-940b-45f3-865e-243b2eaf2052",
   "metadata": {},
   "outputs": [],
   "source": [
    "scaler = MinMaxScaler()\n",
    "df_train_array = scaler.fit_transform(df_train)\n"
   ]
  },
  {
   "cell_type": "markdown",
   "id": "5b5217e7-de31-44f1-85b0-bae267619bdf",
   "metadata": {},
   "source": [
    "### Preparing the Data for LSTM \n"
   ]
  },
  {
   "cell_type": "code",
   "execution_count": 57,
   "id": "310423cc-62cd-4352-b1b9-74134e6ad889",
   "metadata": {},
   "outputs": [],
   "source": [
    "# Preparing the training data\n",
    "\n",
    "X_train = []\n",
    "y_train = []\n",
    "\n",
    "for i in range(100,df_train_array.shape[0]):\n",
    "    X_train.append(df_train_array[i-100:i])\n",
    "    y_train.append(df_train_array[i,0])\n",
    "    \n",
    "X_train,y_train = np.array(X_train),np.array(y_train)"
   ]
  },
  {
   "cell_type": "markdown",
   "id": "a0b48bd1-9547-4916-9c26-ef8eb55d7204",
   "metadata": {},
   "source": [
    "Once the training and test sets are finalized, we will input the data into the LSTM model. Before we can do that, we must transform the training and test set data into a format that the LSTM model can interpret. As the LSTM needs that the data to be provided in the 3D form, we first transform the training and test data to NumPy arrays and then restructure them to match the format (Number of Samples, 1, Number of Features). Now, 6667 are the number of samples in the training set, which is 90% of 7334, and the number of features is 4. Therefore, the training set is reshaped to reflect this (6667, 1, 4)."
   ]
  },
  {
   "cell_type": "code",
   "execution_count": null,
   "id": "93e89677-b56c-4b68-b351-e5d73f83fa65",
   "metadata": {},
   "outputs": [],
   "source": []
  },
  {
   "cell_type": "markdown",
   "id": "e5769285-2ef2-42c2-b5c6-a71bfc2b825d",
   "metadata": {},
   "source": [
    "### Building the Model \n",
    "\n",
    "we’ll build a Sequential Keras model with one LSTM layer. The LSTM layer has 32 units and is followed by one Dense Layer of one neuron.\r\n",
    "\r\n",
    "We compile the model using Adam Optimizer and the Mean Squared Error as the loss function. For an LSTM model, this is the most preferred combination."
   ]
  },
  {
   "cell_type": "code",
   "execution_count": 58,
   "id": "2a0e066f-5cb0-458e-951f-14fb75e66cbb",
   "metadata": {},
   "outputs": [],
   "source": [
    "model = Sequential()\n",
    "\n",
    "model.add(LSTM(units=50, activation = 'relu', return_sequences = True, input_shape = (X_train.shape[1],1)))\n",
    "model.add(Dropout(0.2))\n",
    "\n",
    "model.add(LSTM(units=60, activation = 'relu', return_sequences = True))\n",
    "model.add(Dropout(0.3))\n",
    "\n",
    "model.add(LSTM(units=80, activation = 'relu', return_sequences = True))\n",
    "model.add(Dropout(0.4))\n",
    "\n",
    "model.add(LSTM(units=120, activation = 'relu'))\n",
    "model.add(Dropout(0.5))\n",
    "\n",
    "model.add(Dense(units = 1))"
   ]
  },
  {
   "cell_type": "code",
   "execution_count": 59,
   "id": "0376c1b4-f47a-4a9f-b0fa-17d13b4ec15f",
   "metadata": {},
   "outputs": [
    {
     "name": "stdout",
     "output_type": "stream",
     "text": [
      "Model: \"sequential_3\"\n",
      "_________________________________________________________________\n",
      " Layer (type)                Output Shape              Param #   \n",
      "=================================================================\n",
      " lstm_9 (LSTM)               (None, 100, 50)           10400     \n",
      "                                                                 \n",
      " dropout_8 (Dropout)         (None, 100, 50)           0         \n",
      "                                                                 \n",
      " lstm_10 (LSTM)              (None, 100, 60)           26640     \n",
      "                                                                 \n",
      " dropout_9 (Dropout)         (None, 100, 60)           0         \n",
      "                                                                 \n",
      " lstm_11 (LSTM)              (None, 100, 80)           45120     \n",
      "                                                                 \n",
      " dropout_10 (Dropout)        (None, 100, 80)           0         \n",
      "                                                                 \n",
      " lstm_12 (LSTM)              (None, 120)               96480     \n",
      "                                                                 \n",
      " dropout_11 (Dropout)        (None, 120)               0         \n",
      "                                                                 \n",
      " dense_2 (Dense)             (None, 1)                 121       \n",
      "                                                                 \n",
      "=================================================================\n",
      "Total params: 178,761\n",
      "Trainable params: 178,761\n",
      "Non-trainable params: 0\n",
      "_________________________________________________________________\n"
     ]
    }
   ],
   "source": [
    "model.summary()"
   ]
  },
  {
   "cell_type": "code",
   "execution_count": 60,
   "id": "89e4ba40-01cd-4ed0-a08e-73b14557a6d0",
   "metadata": {},
   "outputs": [
    {
     "name": "stdout",
     "output_type": "stream",
     "text": [
      "Epoch 1/50\n",
      "19/19 - 14s - loss: 0.1234 - 14s/epoch - 738ms/step\n",
      "Epoch 2/50\n",
      "19/19 - 5s - loss: 0.0296 - 5s/epoch - 274ms/step\n",
      "Epoch 3/50\n",
      "19/19 - 5s - loss: 0.0195 - 5s/epoch - 254ms/step\n",
      "Epoch 4/50\n",
      "19/19 - 5s - loss: 0.0176 - 5s/epoch - 263ms/step\n",
      "Epoch 5/50\n",
      "19/19 - 6s - loss: 0.0174 - 6s/epoch - 321ms/step\n",
      "Epoch 6/50\n",
      "19/19 - 6s - loss: 0.0156 - 6s/epoch - 292ms/step\n",
      "Epoch 7/50\n",
      "19/19 - 6s - loss: 0.0169 - 6s/epoch - 301ms/step\n",
      "Epoch 8/50\n",
      "19/19 - 6s - loss: 0.0165 - 6s/epoch - 318ms/step\n",
      "Epoch 9/50\n",
      "19/19 - 5s - loss: 0.0157 - 5s/epoch - 278ms/step\n",
      "Epoch 10/50\n",
      "19/19 - 5s - loss: 0.0124 - 5s/epoch - 284ms/step\n",
      "Epoch 11/50\n",
      "19/19 - 5s - loss: 0.0145 - 5s/epoch - 270ms/step\n",
      "Epoch 12/50\n",
      "19/19 - 5s - loss: 0.0147 - 5s/epoch - 269ms/step\n",
      "Epoch 13/50\n",
      "19/19 - 5s - loss: 0.0125 - 5s/epoch - 274ms/step\n",
      "Epoch 14/50\n",
      "19/19 - 5s - loss: 0.0128 - 5s/epoch - 269ms/step\n",
      "Epoch 15/50\n",
      "19/19 - 5s - loss: 0.0124 - 5s/epoch - 251ms/step\n",
      "Epoch 16/50\n",
      "19/19 - 5s - loss: 0.0120 - 5s/epoch - 247ms/step\n",
      "Epoch 17/50\n",
      "19/19 - 5s - loss: 0.0114 - 5s/epoch - 262ms/step\n",
      "Epoch 18/50\n",
      "19/19 - 5s - loss: 0.0107 - 5s/epoch - 262ms/step\n",
      "Epoch 19/50\n",
      "19/19 - 5s - loss: 0.0113 - 5s/epoch - 258ms/step\n",
      "Epoch 20/50\n",
      "19/19 - 5s - loss: 0.0112 - 5s/epoch - 264ms/step\n",
      "Epoch 21/50\n",
      "19/19 - 5s - loss: 0.0103 - 5s/epoch - 270ms/step\n",
      "Epoch 22/50\n",
      "19/19 - 5s - loss: 0.0096 - 5s/epoch - 283ms/step\n",
      "Epoch 23/50\n",
      "19/19 - 6s - loss: 0.0100 - 6s/epoch - 302ms/step\n",
      "Epoch 24/50\n",
      "19/19 - 6s - loss: 0.0101 - 6s/epoch - 330ms/step\n",
      "Epoch 25/50\n",
      "19/19 - 5s - loss: 0.0095 - 5s/epoch - 269ms/step\n",
      "Epoch 26/50\n",
      "19/19 - 6s - loss: 0.0088 - 6s/epoch - 304ms/step\n",
      "Epoch 27/50\n",
      "19/19 - 7s - loss: 0.0091 - 7s/epoch - 359ms/step\n",
      "Epoch 28/50\n",
      "19/19 - 5s - loss: 0.0103 - 5s/epoch - 281ms/step\n",
      "Epoch 29/50\n",
      "19/19 - 4s - loss: 0.0085 - 4s/epoch - 204ms/step\n",
      "Epoch 30/50\n",
      "19/19 - 4s - loss: 0.0093 - 4s/epoch - 222ms/step\n",
      "Epoch 31/50\n",
      "19/19 - 6s - loss: 0.0082 - 6s/epoch - 295ms/step\n",
      "Epoch 32/50\n",
      "19/19 - 5s - loss: 0.0102 - 5s/epoch - 267ms/step\n",
      "Epoch 33/50\n",
      "19/19 - 7s - loss: 0.0081 - 7s/epoch - 351ms/step\n",
      "Epoch 34/50\n",
      "19/19 - 6s - loss: 0.0077 - 6s/epoch - 338ms/step\n",
      "Epoch 35/50\n",
      "19/19 - 6s - loss: 0.0081 - 6s/epoch - 307ms/step\n",
      "Epoch 36/50\n",
      "19/19 - 6s - loss: 0.0098 - 6s/epoch - 290ms/step\n",
      "Epoch 37/50\n",
      "19/19 - 5s - loss: 0.0088 - 5s/epoch - 251ms/step\n",
      "Epoch 38/50\n",
      "19/19 - 6s - loss: 0.0091 - 6s/epoch - 301ms/step\n",
      "Epoch 39/50\n",
      "19/19 - 6s - loss: 0.0086 - 6s/epoch - 324ms/step\n",
      "Epoch 40/50\n",
      "19/19 - 7s - loss: 0.0081 - 7s/epoch - 345ms/step\n",
      "Epoch 41/50\n",
      "19/19 - 5s - loss: 0.0079 - 5s/epoch - 278ms/step\n",
      "Epoch 42/50\n",
      "19/19 - 5s - loss: 0.0079 - 5s/epoch - 268ms/step\n",
      "Epoch 43/50\n",
      "19/19 - 5s - loss: 0.0069 - 5s/epoch - 265ms/step\n",
      "Epoch 44/50\n",
      "19/19 - 5s - loss: 0.0077 - 5s/epoch - 264ms/step\n",
      "Epoch 45/50\n",
      "19/19 - 5s - loss: 0.0071 - 5s/epoch - 266ms/step\n",
      "Epoch 46/50\n",
      "19/19 - 5s - loss: 0.0077 - 5s/epoch - 266ms/step\n",
      "Epoch 47/50\n",
      "19/19 - 6s - loss: 0.0081 - 6s/epoch - 292ms/step\n",
      "Epoch 48/50\n",
      "19/19 - 5s - loss: 0.0073 - 5s/epoch - 272ms/step\n",
      "Epoch 49/50\n",
      "19/19 - 5s - loss: 0.0076 - 5s/epoch - 288ms/step\n",
      "Epoch 50/50\n",
      "19/19 - 6s - loss: 0.0068 - 6s/epoch - 290ms/step\n"
     ]
    }
   ],
   "source": [
    "# Compiling & fitting the model \n",
    "model.compile(optimizer = 'adam', loss = 'mean_squared_error')\n",
    "hist = model.fit(X_train,y_train, epochs = 50, batch_size = 32, verbose = 2 )"
   ]
  },
  {
   "cell_type": "markdown",
   "id": "fe7a15da-7362-41fd-97e4-9a81665fb54f",
   "metadata": {},
   "source": [
    "### Prediction \n",
    "\n",
    "For prediction, we need testing data and if we look the test data from above table. We can say that we need previous days data for prediction. Hence, for prediction append the 'df_train.tail() to df_test.head()' \n"
   ]
  },
  {
   "cell_type": "code",
   "execution_count": 63,
   "id": "7a28a7db-dc02-445a-9abf-175c52dfb110",
   "metadata": {},
   "outputs": [
    {
     "name": "stderr",
     "output_type": "stream",
     "text": [
      "C:\\Users\\rajni\\AppData\\Local\\Temp\\ipykernel_17364\\2266614119.py:2: FutureWarning: The frame.append method is deprecated and will be removed from pandas in a future version. Use pandas.concat instead.\n",
      "  final_df = past_100_days.append(df_test, ignore_index=True)\n"
     ]
    }
   ],
   "source": [
    "past_100_days = df_train.tail(100)\n",
    "final_df = past_100_days.append(df_test, ignore_index=True)\n"
   ]
  },
  {
   "cell_type": "code",
   "execution_count": 65,
   "id": "8d50791f-5009-4a53-a66e-1902dfcb6dcc",
   "metadata": {},
   "outputs": [],
   "source": [
    "# Scaling the data\n",
    "input_data = scaler.fit_transform(final_df)"
   ]
  },
  {
   "cell_type": "code",
   "execution_count": 66,
   "id": "c9721db1-4dd6-4608-863f-2b60dcca1e64",
   "metadata": {},
   "outputs": [
    {
     "name": "stdout",
     "output_type": "stream",
     "text": [
      "(303, 100, 1)\n",
      "(303,)\n"
     ]
    }
   ],
   "source": [
    "# Preparing the testing data\n",
    "X_test = []\n",
    "y_test = []\n",
    "\n",
    "for i in range(100,input_data.shape[0]):\n",
    "    X_test.append(input_data[i-100:i])\n",
    "    y_test.append(input_data[i,0])\n",
    "    \n",
    "X_test,y_test = np.array(X_test), np.array(y_test)\n",
    "print(X_test.shape)\n",
    "print(y_test.shape)"
   ]
  },
  {
   "cell_type": "code",
   "execution_count": 67,
   "id": "53f65ac3-9806-4d21-98dc-6ecb09980aca",
   "metadata": {},
   "outputs": [
    {
     "name": "stdout",
     "output_type": "stream",
     "text": [
      "(303, 1)\n"
     ]
    }
   ],
   "source": [
    "# Making Predictions\n",
    "\n",
    "y_pred = model.predict(X_test)\n",
    "print(y_pred.shape)"
   ]
  },
  {
   "cell_type": "code",
   "execution_count": 68,
   "id": "526266cc-4b94-408b-a8b1-cad304896a42",
   "metadata": {},
   "outputs": [],
   "source": [
    "# Scaling the data again so that  the predicted and true values match in scale\n",
    "scaler.scale_\n",
    "scale_factor = 1/0.00301214\n",
    "y_pred = y_pred * scale_factor\n",
    "y_test = y_test * scale_factor"
   ]
  },
  {
   "cell_type": "markdown",
   "id": "23c2b9c5-9b03-4345-8de2-43f0b5c9e807",
   "metadata": {},
   "source": []
  },
  {
   "cell_type": "code",
   "execution_count": 69,
   "id": "197d8baa-e145-4e1e-8112-5e23d38374cc",
   "metadata": {},
   "outputs": [
    {
     "data": {
      "image/png": "[encoded data removed]",
      "text/plain": [
       "<Figure size 1500x500 with 1 Axes>"
      ]
     },
     "metadata": {},
     "output_type": "display_data"
    }
   ],
   "source": [
    "plt.figure(figsize = (15,5))\n",
    "plt.plot(y_test,'b',label = 'Original Price')\n",
    "plt.plot(y_pred,'r',label = 'Predicted Price')\n",
    "plt.title('Stock Price Prediction')\n",
    "plt.xlabel('Time')\n",
    "plt.ylabel('Price')\n",
    "plt.legend()\n",
    "plt.show()"
   ]
  },
  {
   "cell_type": "code",
   "execution_count": 70,
   "id": "7c5a10f8-13db-4032-9566-a46344b36ec1",
   "metadata": {},
   "outputs": [],
   "source": [
    "mae = mean_absolute_error(y_test,y_pred)"
   ]
  },
  {
   "cell_type": "code",
   "execution_count": 71,
   "id": "461ba559-184d-4ba7-a355-720e039a4e84",
   "metadata": {},
   "outputs": [
    {
     "data": {
      "text/plain": [
       "22.227996622001395"
      ]
     },
     "execution_count": 71,
     "metadata": {},
     "output_type": "execute_result"
    }
   ],
   "source": [
    "mae"
   ]
  },
  {
   "cell_type": "markdown",
   "id": "3e7b03e6-3f4e-4291-9ee0-3c98ced89f5e",
   "metadata": {},
   "source": [
    "### Conclusion\n",
    "With an MAE of 22.22 and the graphh that almost follow the trend , we can conclude that our LSTM model performed much better at predicting the trend of closing price of the stock than our Linear Regression model. "
   ]
  },
  {
   "cell_type": "code",
   "execution_count": null,
   "id": "cd3dcfb6-a3e1-48ff-885e-49513d1e1c75",
   "metadata": {},
   "outputs": [],
   "source": []
  }
 ],
 "metadata": {
  "kernelspec": {
   "display_name": "Python 3 (ipykernel)",
   "language": "python",
   "name": "python3"
  },
  "language_info": {
   "codemirror_mode": {
    "name": "ipython",
    "version": 3
   },
   "file_extension": ".py",
   "mimetype": "text/x-python",
   "name": "python",
   "nbconvert_exporter": "python",
   "pygments_lexer": "ipython3",
   "version": "3.8.5"
  }
 },
 "nbformat": 4,
 "nbformat_minor": 5
}
